{
  "nbformat": 4,
  "nbformat_minor": 0,
  "metadata": {
    "colab": {
      "provenance": []
    },
    "kernelspec": {
      "name": "python3",
      "display_name": "Python 3"
    },
    "language_info": {
      "name": "python"
    }
  },
  "cells": [
    {
      "cell_type": "code",
      "execution_count": 5,
      "metadata": {
        "colab": {
          "base_uri": "https://localhost:8080/"
        },
        "id": "HJ0Utgh2g_MI",
        "outputId": "d5e1ccbd-1500-4cc4-c5b5-d47cbe369615"
      },
      "outputs": [
        {
          "output_type": "stream",
          "name": "stdout",
          "text": [
            " ID: 17301106\n",
            " Minimum and Maximum value: 1 30\n",
            "Depth and Branches ratio is: 2 : 3\n",
            "Terminal States (leaf node values) are: [16, 15, 22, 10, 1, 9, 22, 18, 9]\n",
            "Remaining life (HP) of the defender after maximum damage caused by the attacker is: 45\n",
            "After Alpha-Beta Pruning, Leaf Node Comparisons: 7\n"
          ]
        }
      ],
      "source": [
        "import random\n",
        "def get_input():\n",
        "    id=input(\" ID: \")\n",
        "    value_range= input(\" Minimum and Maximum value: \").split()\n",
        "    return id,value_range\n",
        "\n",
        "def initial_table(rows, branch):\n",
        "    tble= [[] for _ in range(rows)]\n",
        "    for i in range(rows):\n",
        "        for _ in range(branch**i):\n",
        "            tble[i].append(0)\n",
        "    return tble\n",
        "\n",
        "\n",
        "def generate_random_val(tble,min_val,max_val):\n",
        "    L_row=len(tble)-1\n",
        "    for i in range(len(tble[L_row])):\n",
        "        tble[L_row][i] = random.randint(min_val,max_val)\n",
        "    return tble\n",
        "\n",
        "def apply_min_max(tble,turn,branch):\n",
        "    level = len(tble) - 1\n",
        "    for i in range(turn*2):\n",
        "        start =0\n",
        "        for j in range(int((branch ** level) / branch)):\n",
        "            end =start + branch - 1\n",
        "            temp=tble[level][start:end + 1]\n",
        "            if (i+1)%2 != 0:\n",
        "                tble[level-1][j]= min(temp)\n",
        "            else:\n",
        "                tble[level- 1][j]= max(temp)\n",
        "            start = end + 1\n",
        "        level -=1\n",
        "    return tble\n",
        "\n",
        "def lfnode_compare(leaf_nodes, branch):\n",
        "    alpha= min(leaf_nodes[:branch])\n",
        "    comparisons = branch\n",
        "    index = branch\n",
        "    for i in range(int(len(leaf_nodes) / branch) - 1):\n",
        "        iterator = 0\n",
        "        while iterator < branch:\n",
        "            if alpha > leaf_nodes[index]:\n",
        "                comparisons += 1\n",
        "                index +=branch - iterator\n",
        "                break\n",
        "\n",
        "            else:\n",
        "###\n",
        "                comparisons += 1\n",
        "            index +=1\n",
        "            iterator+= 1\n",
        "        if iterator == branch:\n",
        "            start = (i + 1) * branch\n",
        "            alpha= min(leaf_nodes[start:index])\n",
        "    return comparisons\n",
        "\n",
        "def display_output(turn,branch,tble,initial_hppp, comparisons):\n",
        "    print(\"Depth and Branches ratio is:\", turn * 2, \":\", branch)\n",
        "    print(\"Terminal States (leaf node values) are:\", tble[-1])\n",
        "    leftt_life = initial_hppp - tble[0][0]\n",
        "    print(\"Remaining life (HP) of the defender after maximum damage caused by the attacker is:\", leftt_life)\n",
        "\n",
        "    print(\"After Alpha-Beta Pruning, Leaf Node Comparisons:\", comparisons)\n",
        "\n",
        "def main():\n",
        "\n",
        "    id, value_range = get_input()\n",
        "    rand_min, rand_max = int(value_range[0]), int(value_range[1])\n",
        "    turn = int(id[0])\n",
        "    branch = int(id[2])\n",
        "    initial_hppp = int(id[7] + id[6])\n",
        "\n",
        "\n",
        "    tble = initial_table((turn * 2) + 1, branch)\n",
        "    tble = generate_random_val(tble, rand_min, rand_max)\n",
        "    tble = apply_min_max(tble, turn, branch)\n",
        "\n",
        "\n",
        "    leaf_nodes = tble[-1]\n",
        "    comparisons = lfnode_compare(leaf_nodes, branch)\n",
        "\n",
        "    display_output(turn, branch, tble, initial_hppp, comparisons)\n",
        "\n",
        "\n",
        "main()\n"
      ]
    },
    {
      "cell_type": "code",
      "source": [],
      "metadata": {
        "id": "hwHg43T9iC5H"
      },
      "execution_count": null,
      "outputs": []
    }
  ]
}
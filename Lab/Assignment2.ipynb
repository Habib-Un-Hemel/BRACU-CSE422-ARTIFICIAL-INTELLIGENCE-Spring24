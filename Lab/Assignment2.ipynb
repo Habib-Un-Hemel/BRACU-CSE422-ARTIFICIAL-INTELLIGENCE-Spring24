{
  "cells": [
    {
      "cell_type": "code",
      "execution_count": 11,
      "metadata": {
        "id": "D0dyYZrnS97e"
      },
      "outputs": [],
      "source": [
        "from random import randint as rd\n",
        "\n",
        "def inp_processing(input_file):\n",
        "    with open(input_file,'r') as file:\n",
        "        total_transaoction=int(file.readline().strip())\n",
        "        t_type =[]\n",
        "        t_amount =[]\n",
        "\n",
        "        for i in range(total_transaoction):\n",
        "            t =  file.readline().strip().split()\n",
        "            t_type.append(t[0])\n",
        "            t_amount.append(int(t[1]))\n",
        "\n",
        "        return total_transaoction, t_type, t_amount\n"
      ]
    },
    {
      "cell_type": "code",
      "source": [
        "def generate_chrom(total_transaoction):\n",
        "    return ''.join(str(rd(0, 1)) for _ in range(total_transaoction))"
      ],
      "metadata": {
        "id": "zR4BEdqnkycO"
      },
      "execution_count": 12,
      "outputs": []
    },
    {
      "cell_type": "code",
      "source": [
        "def calculate_fitness(chrom, t_amount, t_type):\n",
        "    fit =0\n",
        "    for i in range(len(chrom)):\n",
        "        if chrom[i]== \"1\" :\n",
        "            if t_type[i]  == \"l\":\n",
        "                fit -= t_amount[i]\n",
        "            elif t_type[i]  == \"d\":\n",
        "                fit +=t_amount[i]\n",
        "\n",
        "\n",
        "    return fit"
      ],
      "metadata": {
        "id": "bPTgST0YkyeT"
      },
      "execution_count": 13,
      "outputs": []
    },
    {
      "cell_type": "code",
      "source": [
        "def crossover(chrom1, chrom2):\n",
        "    index = rd(0,len(chrom1)- 1)\n",
        "    new_chrom1=chrom1[:index]  + chrom2[index:]\n",
        "    new_chrom2=chrom2[:index] + chrom1[index:]\n",
        "    return new_chrom1,   new_chrom2\n"
      ],
      "metadata": {
        "id": "kBXI3He-kygZ"
      },
      "execution_count": 14,
      "outputs": []
    },
    {
      "cell_type": "code",
      "source": [
        "\n",
        "def mutation(chrom):\n",
        "    index= rd(0, len(chrom)  - 1)\n",
        "    mutated_gene =  \"0\" if chrom[index]  == \"1\" else \"1\"\n",
        "    return chrom[:index] +  mutated_gene + chrom[index+1:]\n"
      ],
      "metadata": {
        "id": "9neQf7h8kyie"
      },
      "execution_count": 15,
      "outputs": []
    },
    {
      "cell_type": "code",
      "source": [
        "def genetic_algo(input_file):\n",
        "    total_transaoction, t_type,t_amount =  inp_processing(input_file)\n",
        "    # print(\"Total transactions:\",total_transaoction)\n",
        "    # print(\"Transaction types:\",t_type)\n",
        "    # print(\"Transaction amounts:\",t_amount)\n",
        "    for i in range(100):\n",
        "        chrom1 =  generate_chrom(total_transaoction)\n",
        "        chrom2 =  generate_chrom(total_transaoction)\n",
        "        # print(\"Chrom 1:\",chrom1)\n",
        "        # print(\"Chrom 2:\",chrom2)\n",
        "        fitt1 = calculate_fitness(chrom1, t_amount,t_type)\n",
        "        fit2 = calculate_fitness(chrom2, t_amount, t_type)\n",
        "        # print(\"Fitness 1:\",fitt1)\n",
        "        # print(\"Fitness 2:\",fit2)\n",
        "        if fitt1 ==  0 and chrom1.count(\"1\") > 0:  # Ensure chrom1 is not all zeros\n",
        "            return chrom1\n",
        "        elif fit2  == 0 and chrom2.count(\"1\") > 0:  # Ensure chrom2 is not all zeros\n",
        "\n",
        "            return  chrom2\n",
        "\n",
        "\n",
        "        new_chrom1,new_chrom2  = crossover(chrom1,chrom2)\n",
        "        chrom1 =  mutation(new_chrom1)\n",
        "        chrom2 = mutation(new_chrom2)\n",
        "        # print(\"Mutated Chrom 1:\",chrom1)\n",
        "        # print(\"Mutated Chrom 2:\",chrom2)\n",
        "        fitt1 = calculate_fitness(chrom1,t_amount, t_type)\n",
        "        fit2 = calculate_fitness(chrom2, t_amount, t_type)\n",
        "        # print(\"Fitness 1 after mutation:\",fitt1)\n",
        "        # print(\"Fitness 2 after mutation:\",fit2)\n",
        "        if fitt1 ==0  and chrom1.count(\"1\") > 0:  # Ensure chrom1 is not all zeros\n",
        "            return chrom1\n",
        "        elif fit2 == 0  and chrom2.count(\"1\") > 0:  # Ensure chrom2 is not all zeros\n",
        "            return chrom2\n",
        "\n",
        "    return -1\n"
      ],
      "metadata": {
        "id": "8qf06R_Ykyk1"
      },
      "execution_count": 16,
      "outputs": []
    },
    {
      "cell_type": "code",
      "source": [
        "# Example:\n",
        "input_file = \"/content/drive/MyDrive/CSE_422/Lab_assignment2/Input file.txt\"\n",
        "result = genetic_algorithm(input_file)\n",
        "if result == -1:\n",
        "    print(result)\n",
        "else:\n",
        "    print(\"Resulting binary string:\", result)"
      ],
      "metadata": {
        "colab": {
          "base_uri": "https://localhost:8080/"
        },
        "id": "dLHcjQ_lWDfv",
        "outputId": "c8b8799f-c75d-4073-de08-3e2ddaf59851"
      },
      "execution_count": 17,
      "outputs": [
        {
          "output_type": "stream",
          "name": "stdout",
          "text": [
            "Resulting binary string: 1011010\n"
          ]
        }
      ]
    }
  ],
  "metadata": {
    "colab": {
      "provenance": []
    },
    "kernelspec": {
      "display_name": "Python 3",
      "name": "python3"
    },
    "language_info": {
      "name": "python"
    }
  },
  "nbformat": 4,
  "nbformat_minor": 0
}